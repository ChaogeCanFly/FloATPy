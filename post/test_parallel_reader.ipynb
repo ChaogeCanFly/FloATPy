{
 "cells": [
  {
   "cell_type": "code",
   "execution_count": 1,
   "metadata": {},
   "outputs": [
    {
     "name": "stdout",
     "output_type": "stream",
     "text": [
      "['/projects/ShockInducedMix/ShearLayerData/production/Mc20/rr1/1024x1448x512/shearlayer_Rij_0001.dat', '/projects/ShockInducedMix/ShearLayerData/production/Mc20/rr1/1024x1448x512/shearlayer_Rij_0002.dat', '/projects/ShockInducedMix/ShearLayerData/production/Mc20/rr1/1024x1448x512/shearlayer_Rij_0003.dat', '/projects/ShockInducedMix/ShearLayerData/production/Mc20/rr1/1024x1448x512/shearlayer_Rij_0004.dat', '/projects/ShockInducedMix/ShearLayerData/production/Mc20/rr1/1024x1448x512/shearlayer_Rij_0005.dat', '/projects/ShockInducedMix/ShearLayerData/production/Mc20/rr1/1024x1448x512/shearlayer_Rij_0006.dat', '/projects/ShockInducedMix/ShearLayerData/production/Mc20/rr1/1024x1448x512/shearlayer_Rij_0007.dat']\n"
     ]
    }
   ],
   "source": [
    "import sys\n",
    "import os\n",
    "import glob\n",
    "from mpi4py import MPI\n",
    "import h5py\n",
    "import numpy as np\n",
    "import matplotlib.pyplot as plt\n",
    "from mpl_toolkits.axes_grid1 import make_axes_locatable\n",
    "%matplotlib inline\n",
    "%config InlineBackend.figure_format = 'png'\n",
    "\n",
    "import floatpy.readers.padeops_reader as por\n",
    "import floatpy.readers.parallel_reader as pdr\n",
    "import floatpy.utilities.reduction as red\n",
    "import floatpy.derivatives.compact.compact_derivative as cd\n",
    "import scripts.statistics as stats\n",
    "\n",
    "# directory = '/projects/ShockInducedMix/ShearLayerData/production/Mc02/rr1/256x512x128/'\n",
    "# directory = '/projects/ShockInducedMix/ShearLayerData/production/Mc02/rr1/512x724x256/'\n",
    "# directory = '/projects/ShockInducedMix/ShearLayerData/production/Mc02/rr1/1024x1448x512/'\n",
    "\n",
    "# directory = '/projects/ShockInducedMix/ShearLayerData/production/Mc04/rr1/256x512x128/'\n",
    "# directory = '/projects/ShockInducedMix/ShearLayerData/production/Mc04/rr1/1024x1448x512/'\n",
    "\n",
    "# directory = '/projects/ShockInducedMix/ShearLayerData/production/Mc07/rr1/724x1024x362/'\n",
    "\n",
    "# directory = '/projects/ShockInducedMix/ShearLayerData/production/Mc08/rr1/512x724x256/'\n",
    "# directory = '/projects/ShockInducedMix/ShearLayerData/production/Mc08/rr1/1024x1024x512/'\n",
    "# directory = '/projects/ShockInducedMix/ShearLayerData/production/Mc08/rr1/1024x1448x512/'\n",
    "# directory = '/projects/ShockInducedMix/ShearLayerData/production/Mc08/rr7/1024x1448x512/'\n",
    "\n",
    "# directory = '/projects/ShockInducedMix/ShearLayerData/production/Mc12/rr1/256x384x128/with_LAD/'\n",
    "# directory = '/projects/ShockInducedMix/ShearLayerData/production/Mc12/rr1/724x724x256/'\n",
    "# directory = '/projects/ShockInducedMix/ShearLayerData/production/Mc12/rr1/1024x1024x512/'\n",
    "# directory = '/projects/ShockInducedMix/ShearLayerData/production/Mc12/rr1/1024x1448x512/'\n",
    "\n",
    "# directory = '/projects/ShockInducedMix/ShearLayerData/production/Mc16/rr1/1024x1448x512/'\n",
    "\n",
    "directory = '/projects/ShockInducedMix/ShearLayerData/production/Mc20/rr1/1024x1448x512/'\n",
    "\n",
    "flist = glob.glob(directory+\"*Rij*\")\n",
    "print(flist)"
   ]
  }
 ],
 "metadata": {
  "kernelspec": {
   "display_name": "Python 2",
   "language": "python",
   "name": "python2"
  },
  "language_info": {
   "codemirror_mode": {
    "name": "ipython",
    "version": 2
   },
   "file_extension": ".py",
   "mimetype": "text/x-python",
   "name": "python",
   "nbconvert_exporter": "python",
   "pygments_lexer": "ipython2",
   "version": "2.7.5"
  }
 },
 "nbformat": 4,
 "nbformat_minor": 2
}
