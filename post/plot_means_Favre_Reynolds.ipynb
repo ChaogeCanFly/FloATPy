{
 "cells": [
  {
   "cell_type": "code",
   "execution_count": 40,
   "metadata": {
    "scrolled": false
   },
   "outputs": [
    {
     "name": "stdout",
     "output_type": "stream",
     "text": [
      "Params for this run:\n",
      "\tMc = 0.2\n",
      "\tRe = 1000.0\n",
      "\trr = 7.0\n",
      "Params for this grid:\n",
      "\tN = 1024x1448x512\n",
      "\tL = 150.0x200.0x75.0\n",
      "['massflux_0071.dat', 'massflux_0075.dat', 'massflux_0076.dat']\n"
     ]
    }
   ],
   "source": [
    "import sys\n",
    "import os\n",
    "import glob\n",
    "from mpi4py import MPI\n",
    "import h5py\n",
    "import numpy as np\n",
    "import matplotlib.pyplot as plt\n",
    "from mpl_toolkits.axes_grid1 import make_axes_locatable\n",
    "%matplotlib inline\n",
    "%config InlineBackend.figure_format = 'png'\n",
    "from scipy.stats import norm, skew, kurtosis\n",
    "import matplotlib.mlab as mlab\n",
    "\n",
    "import scripts.statistics as stats\n",
    "import scripts.get_namelist as nml\n",
    "from scripts.hh_decomp import window_tukey, window_field\n",
    "from scripts.common import *\n",
    "\n",
    "def get_data(f):\n",
    "    dat = np.fromfile(f,sep=' ')\n",
    "    n = np.size(dat)\n",
    "    dat = np.reshape(dat,[int(n/6.),6])\n",
    "    ubar = dat[:,0]\n",
    "    vbar = dat[:,1]\n",
    "    utilde = dat[:,2]\n",
    "    vtilde = dat[:,3]\n",
    "    ru = dat[:,4]\n",
    "    rv = dat[:,5]\n",
    "    return ubar,vbar,utilde,vtilde,ru,rv\n",
    "\n",
    "# directory = '/projects/ShockInducedMix/ShearLayerData/production/Mc20/rr1/512x724x256/'\n",
    "directory = '/home/kmatsuno/ShearLayerData/production/Mc02/rr7/1024x1448x512/'\n",
    "inp = nml.inputs(directory,verbose=True)\n",
    "Nx,Ny,Nz,Lx,Ly,Lz = nml.read_grid_params(directory,verbose=True)\n",
    "Ny = int(Ny)\n",
    "y = np.linspace(Ly/2.,-Ly/2.,Ny)\n",
    "\n",
    "flist = glob.glob(directory+\"massflux*dat\")\n",
    "flist.sort()\n",
    "print([f.split('/')[-1] for f in flist])\n",
    "\n",
    "tlist,dlist,rates = growth_rates(directory+'shearlayer_')"
   ]
  },
  {
   "cell_type": "code",
   "execution_count": 46,
   "metadata": {
    "scrolled": false
   },
   "outputs": [
    {
     "data": {
      "text/plain": [
       "<matplotlib.legend.Legend at 0x7fed15ddadd0>"
      ]
     },
     "execution_count": 46,
     "metadata": {},
     "output_type": "execute_result"
    },
    {
     "data": {
      "image/png": "[encoded data removed]",
      "text/plain": [
       "<Figure size 450x450 with 1 Axes>"
      ]
     },
     "metadata": {
      "needs_background": "light"
     },
     "output_type": "display_data"
    }
   ],
   "source": [
    "# need Mc08_rr_7: massflux(utilde, vtilde) and Rij kinematic\n",
    "\n",
    "fig = plt.figure(figsize=(3,3),dpi=150)\n",
    "\n",
    "directory = '/home/kmatsuno/ShearLayerData/production/Mc20/rr7/1024x1448x512/'\n",
    "filename_prefix = directory + '/shearlayer_'\n",
    "inp = nml.inputs(directory)\n",
    "Nx,Ny,Nz,Lx,Ly,Lz = nml.read_grid_params(directory,verbose=False)\n",
    "Ny = int(Ny)\n",
    "y = np.linspace(-Ly/2.,Ly/2.,Ny)\n",
    "\n",
    "flist = glob.glob(directory+\"massflux*\")\n",
    "flist.sort()\n",
    "\n",
    "ist=0;ien = -1\n",
    "        \n",
    "for j,fname in enumerate(flist[ist:ien]):\n",
    "    tID = fname.split('/')[-1]\n",
    "    tID = tID.split('_')[-1]\n",
    "    tID = int(tID.split('.')[0])\n",
    "    time = nml.read_time(directory,tID)\n",
    "\n",
    "    # Get dtheta\n",
    "    dtheta = get_dtheta(directory,time)\n",
    "    eta = y/dtheta\n",
    "\n",
    "    ubar,vbar,utilde,vtilde,ru,rv = get_data(fname)\n",
    "    if j==0: \n",
    "        label1=r'$\\overline{v}/\\Delta\\bar{u}$'\n",
    "        label2=r'$\\tilde{v}/\\Delta\\bar{u}$'\n",
    "    else: label1,label2=None,None\n",
    "    plt.plot(-eta,-vbar/inp.du,color='C1',alpha=0.5,label=label1)\n",
    "    plt.plot(-eta,-vtilde/inp.du,color='C9',alpha=0.5,label=label2)\n",
    "\n",
    "plt.xlim([-12,12])\n",
    "plt.xlabel(r'$\\eta$')\n",
    "plt.legend()\n",
    "# plt.grid(True)\n"
   ]
  },
  {
   "cell_type": "code",
   "execution_count": null,
   "metadata": {},
   "outputs": [],
   "source": []
  }
 ],
 "metadata": {
  "kernelspec": {
   "display_name": "Python 2",
   "language": "python",
   "name": "python2"
  },
  "language_info": {
   "codemirror_mode": {
    "name": "ipython",
    "version": 2
   },
   "file_extension": ".py",
   "mimetype": "text/x-python",
   "name": "python",
   "nbconvert_exporter": "python",
   "pygments_lexer": "ipython2",
   "version": "2.7.5"
  }
 },
 "nbformat": 4,
 "nbformat_minor": 2
}
