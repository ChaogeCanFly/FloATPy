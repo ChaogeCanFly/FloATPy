{
 "cells": [
  {
   "cell_type": "code",
   "execution_count": 2,
   "metadata": {},
   "outputs": [],
   "source": [
    "# import sys\n",
    "# sys.path.insert(0,'/home/kmatsuno/h5py/build/lib.linux-x86_64-2.7/')\n",
    "import h5py\n",
    "import glob\n",
    "import matplotlib.pyplot as plt\n",
    "import matplotlib as mpl\n",
    "from mpl_toolkits.axes_grid1 import make_axes_locatable\n",
    "from matplotlib.patches import Ellipse\n",
    "%matplotlib inline\n",
    "%config InlineBackend.figure_format = 'png'\n",
    "import numpy as np\n",
    "\n",
    "import floatpy.readers.padeops_reader as por\n",
    "import scripts.get_namelist as nml\n",
    "from scripts.common import *\n",
    "from scripts.decorr_lscale_y import get_L99\n",
    "\n",
    "def get_data(directory,tID):\n",
    "    \n",
    "    # L99:\n",
    "    fname = directory+'/shearlayer_utilde_%04d.dat'%tID\n",
    "    utilde = np.fromfile(fname,count=-1,sep=' ')\n",
    "    L99,itop,ibot = get_L99(yplot,utilde)\n",
    "\n",
    "    # Ly lengthscales:\n",
    "    fname = directory+'/lscale_vv_%04d.dat'%tID\n",
    "    autocorr = np.fromfile(fname,sep=' ')\n",
    "    autocorr = np.reshape(autocorr,[Ny,3])\n",
    "    autocorr = autocorr[:,0]\n",
    "    ly,i1,i2 = get_lscale(y,autocorr,thresh=0.25)\n",
    "    \n",
    "    # Lx,Lz lengthscales:\n",
    "    fname = directory+'/autocorr_vv_%04d.h5'%tID\n",
    "        hf =  h5py.File(fname,'r')\n",
    "        autocorr2D = np.abs(np.fft.fftshift(hf['qx']))\n",
    "        for k in range(Nz): autocorr2D /= np.amax(autocorr2D[:,k])\n",
    "        autocorr = np.mean(autocorr2D,axis=-1)\n",
    "        lx,i1,i2 = get_lscale(x,autocorr,thresh=0.2)\n",
    "        \n",
    "        autocorr2D = np.abs(np.fft.fftshift(hf['qz']))\n",
    "        for k in range(Nx): autocorr2D /= np.amax(autocorr2D[k,:])\n",
    "        autocorr = np.mean(autocorr2D,axis=0)\n",
    "        lz,i1,i2 = get_lscale(z,autocorr,thresh=0.2)\n",
    "    return L99,ly,lx,lz"
   ]
  },
  {
   "cell_type": "code",
   "execution_count": 3,
   "metadata": {},
   "outputs": [
    {
     "name": "stdout",
     "output_type": "stream",
     "text": [
      "Params for this run:\n",
      "\tMc = 2.0\n",
      "\tRe = 1000.0\n",
      "\trr = 1.0\n",
      "Params for this grid:\n",
      "\tN = 1024x1448x512\n",
      "\tL = 80.0x80.0x40.0\n",
      "Steps: [0, 1, 2, 3, 4, 5, 6, 7, 8, 9, 10, 11, 12, 13]\n"
     ]
    }
   ],
   "source": [
    "directory = '/projects/ShockInducedMix/ShearLayerData/production/Mc20/rr1/1024x1448x512/'\n",
    "\n",
    "filename_prefix = directory+'/shearlayer_'\n",
    "reader = por.PadeopsReader(filename_prefix, periodic_dimensions=(True,False,True))\n",
    "inp = nml.inputs(directory,verbose=True)\n",
    "Nx,Ny,Nz,Lx,Ly,Lz = nml.read_grid_params(directory,verbose=True)\n",
    "yplot = np.linspace(-Ly/2,Ly/2,int(Ny))\n",
    "Ny = int(Ny)\n",
    "y = np.linspace(-Ly/2.,Ly/2.,Ny)\n",
    "x = np.linspace(0,Lx,Nx)\n",
    "z = np.linspace(0,Lz,Nz)\n",
    "steps = sorted(reader.steps)\n",
    "print(\"Steps: {}\".format(steps))\n",
    "\n",
    "dir_out = directory.split('/projects/ShockInducedMix/')[-1]\n",
    "dir_out = '/home/kmatsuno/' + dir_out + '/'\n"
   ]
  },
  {
   "cell_type": "code",
   "execution_count": 7,
   "metadata": {},
   "outputs": [
    {
     "name": "stdout",
     "output_type": "stream",
     "text": [
      "0.2\n"
     ]
    },
    {
     "ename": "IOError",
     "evalue": "Unable to open file (unable to open file: name = '/home/kmatsuno/ShearLayerData/production/Mc02/rr1/1024x1448x512///autocorr_vv_0108.h5', errno = 2, error message = 'No such file or directory', flags = 0, o_flags = 0)",
     "output_type": "error",
     "traceback": [
      "\u001b[0;31m---------------------------------------------------------------------------\u001b[0m",
      "\u001b[0;31mIOError\u001b[0m                                   Traceback (most recent call last)",
      "\u001b[0;32m<ipython-input-7-a5642fceabb7>\u001b[0m in \u001b[0;36m<module>\u001b[0;34m()\u001b[0m\n\u001b[1;32m     33\u001b[0m         \u001b[0mdtheta\u001b[0m \u001b[0;34m=\u001b[0m \u001b[0mget_dtheta\u001b[0m\u001b[0;34m(\u001b[0m\u001b[0mdirectory\u001b[0m\u001b[0;34m,\u001b[0m\u001b[0mtime\u001b[0m\u001b[0;34m)\u001b[0m\u001b[0;34m\u001b[0m\u001b[0m\n\u001b[1;32m     34\u001b[0m \u001b[0;34m\u001b[0m\u001b[0m\n\u001b[0;32m---> 35\u001b[0;31m         \u001b[0mL99\u001b[0m\u001b[0;34m,\u001b[0m\u001b[0mly\u001b[0m\u001b[0;34m,\u001b[0m\u001b[0mlx\u001b[0m\u001b[0;34m,\u001b[0m\u001b[0mlz\u001b[0m \u001b[0;34m=\u001b[0m \u001b[0mget_data\u001b[0m\u001b[0;34m(\u001b[0m\u001b[0mdir_out\u001b[0m\u001b[0;34m,\u001b[0m\u001b[0mtID\u001b[0m\u001b[0;34m)\u001b[0m\u001b[0;34m\u001b[0m\u001b[0m\n\u001b[0m\u001b[1;32m     36\u001b[0m         \u001b[0;32mif\u001b[0m \u001b[0mj\u001b[0m\u001b[0;34m==\u001b[0m\u001b[0;36m0\u001b[0m\u001b[0;34m:\u001b[0m \u001b[0mells\u001b[0m \u001b[0;34m=\u001b[0m \u001b[0mEllipse\u001b[0m\u001b[0;34m(\u001b[0m\u001b[0;34m(\u001b[0m\u001b[0;36m0\u001b[0m\u001b[0;34m,\u001b[0m\u001b[0;36m0\u001b[0m\u001b[0;34m)\u001b[0m\u001b[0;34m,\u001b[0m\u001b[0mlx\u001b[0m\u001b[0;34m/\u001b[0m\u001b[0mL99\u001b[0m\u001b[0;34m,\u001b[0m \u001b[0mly\u001b[0m\u001b[0;34m/\u001b[0m\u001b[0mL99\u001b[0m\u001b[0;34m,\u001b[0m \u001b[0;36m0\u001b[0m\u001b[0;34m,\u001b[0m\u001b[0mfill\u001b[0m\u001b[0;34m=\u001b[0m\u001b[0mFalse\u001b[0m\u001b[0;34m,\u001b[0m\u001b[0medgecolor\u001b[0m\u001b[0;34m=\u001b[0m\u001b[0;34m'C%i'\u001b[0m\u001b[0;34m%\u001b[0m\u001b[0mi\u001b[0m\u001b[0;34m,\u001b[0m\u001b[0mlabel\u001b[0m\u001b[0;34m=\u001b[0m\u001b[0;34m'Mc'\u001b[0m\u001b[0;34m)\u001b[0m\u001b[0;34m\u001b[0m\u001b[0m\n\u001b[1;32m     37\u001b[0m         \u001b[0;32melse\u001b[0m\u001b[0;34m:\u001b[0m \u001b[0mells\u001b[0m \u001b[0;34m=\u001b[0m \u001b[0mEllipse\u001b[0m\u001b[0;34m(\u001b[0m\u001b[0;34m(\u001b[0m\u001b[0;36m0\u001b[0m\u001b[0;34m,\u001b[0m\u001b[0;36m0\u001b[0m\u001b[0;34m)\u001b[0m\u001b[0;34m,\u001b[0m\u001b[0mlx\u001b[0m\u001b[0;34m/\u001b[0m\u001b[0mL99\u001b[0m\u001b[0;34m,\u001b[0m \u001b[0mly\u001b[0m\u001b[0;34m/\u001b[0m\u001b[0mL99\u001b[0m\u001b[0;34m,\u001b[0m \u001b[0;36m0\u001b[0m\u001b[0;34m,\u001b[0m\u001b[0mfill\u001b[0m\u001b[0;34m=\u001b[0m\u001b[0mFalse\u001b[0m\u001b[0;34m,\u001b[0m\u001b[0medgecolor\u001b[0m\u001b[0;34m=\u001b[0m\u001b[0;34m'C%i'\u001b[0m\u001b[0;34m%\u001b[0m\u001b[0mi\u001b[0m\u001b[0;34m)\u001b[0m\u001b[0;34m\u001b[0m\u001b[0m\n",
      "\u001b[0;32m<ipython-input-2-26591f96c45f>\u001b[0m in \u001b[0;36mget_data\u001b[0;34m(directory, tID)\u001b[0m\n\u001b[1;32m     33\u001b[0m     \u001b[0;32mif\u001b[0m \u001b[0minp\u001b[0m\u001b[0;34m.\u001b[0m\u001b[0mrr\u001b[0m\u001b[0;34m==\u001b[0m\u001b[0;36m1\u001b[0m\u001b[0;34m:\u001b[0m\u001b[0;34m\u001b[0m\u001b[0m\n\u001b[1;32m     34\u001b[0m         \u001b[0mfname\u001b[0m \u001b[0;34m=\u001b[0m \u001b[0mdirectory\u001b[0m\u001b[0;34m+\u001b[0m\u001b[0;34m'/autocorr_vv_%04d.h5'\u001b[0m\u001b[0;34m%\u001b[0m\u001b[0mtID\u001b[0m\u001b[0;34m\u001b[0m\u001b[0m\n\u001b[0;32m---> 35\u001b[0;31m         \u001b[0mhf\u001b[0m \u001b[0;34m=\u001b[0m  \u001b[0mh5py\u001b[0m\u001b[0;34m.\u001b[0m\u001b[0mFile\u001b[0m\u001b[0;34m(\u001b[0m\u001b[0mfname\u001b[0m\u001b[0;34m,\u001b[0m\u001b[0;34m'r'\u001b[0m\u001b[0;34m)\u001b[0m\u001b[0;34m\u001b[0m\u001b[0m\n\u001b[0m\u001b[1;32m     36\u001b[0m         \u001b[0mautocorr2D\u001b[0m \u001b[0;34m=\u001b[0m \u001b[0mnp\u001b[0m\u001b[0;34m.\u001b[0m\u001b[0mabs\u001b[0m\u001b[0;34m(\u001b[0m\u001b[0mnp\u001b[0m\u001b[0;34m.\u001b[0m\u001b[0mfft\u001b[0m\u001b[0;34m.\u001b[0m\u001b[0mfftshift\u001b[0m\u001b[0;34m(\u001b[0m\u001b[0mhf\u001b[0m\u001b[0;34m[\u001b[0m\u001b[0;34m'qx'\u001b[0m\u001b[0;34m]\u001b[0m\u001b[0;34m)\u001b[0m\u001b[0;34m)\u001b[0m\u001b[0;34m\u001b[0m\u001b[0m\n\u001b[1;32m     37\u001b[0m         \u001b[0;32mfor\u001b[0m \u001b[0mk\u001b[0m \u001b[0;32min\u001b[0m \u001b[0mrange\u001b[0m\u001b[0;34m(\u001b[0m\u001b[0mNz\u001b[0m\u001b[0;34m)\u001b[0m\u001b[0;34m:\u001b[0m \u001b[0mautocorr2D\u001b[0m \u001b[0;34m/=\u001b[0m \u001b[0mnp\u001b[0m\u001b[0;34m.\u001b[0m\u001b[0mamax\u001b[0m\u001b[0;34m(\u001b[0m\u001b[0mautocorr2D\u001b[0m\u001b[0;34m[\u001b[0m\u001b[0;34m:\u001b[0m\u001b[0;34m,\u001b[0m\u001b[0mk\u001b[0m\u001b[0;34m]\u001b[0m\u001b[0;34m)\u001b[0m\u001b[0;34m\u001b[0m\u001b[0m\n",
      "\u001b[0;32m/gpfs/mira-home/kmatsuno/floatpy_env/lib/python2.7/site-packages/h5py/_hl/files.pyc\u001b[0m in \u001b[0;36m__init__\u001b[0;34m(self, name, mode, driver, libver, userblock_size, swmr, rdcc_nslots, rdcc_nbytes, rdcc_w0, track_order, **kwds)\u001b[0m\n\u001b[1;32m    406\u001b[0m                 fid = make_fid(name, mode, userblock_size,\n\u001b[1;32m    407\u001b[0m                                \u001b[0mfapl\u001b[0m\u001b[0;34m,\u001b[0m \u001b[0mfcpl\u001b[0m\u001b[0;34m=\u001b[0m\u001b[0mmake_fcpl\u001b[0m\u001b[0;34m(\u001b[0m\u001b[0mtrack_order\u001b[0m\u001b[0;34m=\u001b[0m\u001b[0mtrack_order\u001b[0m\u001b[0;34m)\u001b[0m\u001b[0;34m,\u001b[0m\u001b[0;34m\u001b[0m\u001b[0m\n\u001b[0;32m--> 408\u001b[0;31m                                swmr=swmr)\n\u001b[0m\u001b[1;32m    409\u001b[0m \u001b[0;34m\u001b[0m\u001b[0m\n\u001b[1;32m    410\u001b[0m             \u001b[0;32mif\u001b[0m \u001b[0misinstance\u001b[0m\u001b[0;34m(\u001b[0m\u001b[0mlibver\u001b[0m\u001b[0;34m,\u001b[0m \u001b[0mtuple\u001b[0m\u001b[0;34m)\u001b[0m\u001b[0;34m:\u001b[0m\u001b[0;34m\u001b[0m\u001b[0m\n",
      "\u001b[0;32m/gpfs/mira-home/kmatsuno/floatpy_env/lib/python2.7/site-packages/h5py/_hl/files.pyc\u001b[0m in \u001b[0;36mmake_fid\u001b[0;34m(name, mode, userblock_size, fapl, fcpl, swmr)\u001b[0m\n\u001b[1;32m    171\u001b[0m         \u001b[0;32mif\u001b[0m \u001b[0mswmr\u001b[0m \u001b[0;32mand\u001b[0m \u001b[0mswmr_support\u001b[0m\u001b[0;34m:\u001b[0m\u001b[0;34m\u001b[0m\u001b[0m\n\u001b[1;32m    172\u001b[0m             \u001b[0mflags\u001b[0m \u001b[0;34m|=\u001b[0m \u001b[0mh5f\u001b[0m\u001b[0;34m.\u001b[0m\u001b[0mACC_SWMR_READ\u001b[0m\u001b[0;34m\u001b[0m\u001b[0m\n\u001b[0;32m--> 173\u001b[0;31m         \u001b[0mfid\u001b[0m \u001b[0;34m=\u001b[0m \u001b[0mh5f\u001b[0m\u001b[0;34m.\u001b[0m\u001b[0mopen\u001b[0m\u001b[0;34m(\u001b[0m\u001b[0mname\u001b[0m\u001b[0;34m,\u001b[0m \u001b[0mflags\u001b[0m\u001b[0;34m,\u001b[0m \u001b[0mfapl\u001b[0m\u001b[0;34m=\u001b[0m\u001b[0mfapl\u001b[0m\u001b[0;34m)\u001b[0m\u001b[0;34m\u001b[0m\u001b[0m\n\u001b[0m\u001b[1;32m    174\u001b[0m     \u001b[0;32melif\u001b[0m \u001b[0mmode\u001b[0m \u001b[0;34m==\u001b[0m \u001b[0;34m'r+'\u001b[0m\u001b[0;34m:\u001b[0m\u001b[0;34m\u001b[0m\u001b[0m\n\u001b[1;32m    175\u001b[0m         \u001b[0mfid\u001b[0m \u001b[0;34m=\u001b[0m \u001b[0mh5f\u001b[0m\u001b[0;34m.\u001b[0m\u001b[0mopen\u001b[0m\u001b[0;34m(\u001b[0m\u001b[0mname\u001b[0m\u001b[0;34m,\u001b[0m \u001b[0mh5f\u001b[0m\u001b[0;34m.\u001b[0m\u001b[0mACC_RDWR\u001b[0m\u001b[0;34m,\u001b[0m \u001b[0mfapl\u001b[0m\u001b[0;34m=\u001b[0m\u001b[0mfapl\u001b[0m\u001b[0;34m)\u001b[0m\u001b[0;34m\u001b[0m\u001b[0m\n",
      "\u001b[0;32mh5py/_objects.pyx\u001b[0m in \u001b[0;36mh5py._objects.with_phil.wrapper\u001b[0;34m()\u001b[0m\n",
      "\u001b[0;32mh5py/_objects.pyx\u001b[0m in \u001b[0;36mh5py._objects.with_phil.wrapper\u001b[0;34m()\u001b[0m\n",
      "\u001b[0;32mh5py/h5f.pyx\u001b[0m in \u001b[0;36mh5py.h5f.open\u001b[0;34m()\u001b[0m\n",
      "\u001b[0;31mIOError\u001b[0m: Unable to open file (unable to open file: name = '/home/kmatsuno/ShearLayerData/production/Mc02/rr1/1024x1448x512///autocorr_vv_0108.h5', errno = 2, error message = 'No such file or directory', flags = 0, o_flags = 0)"
     ]
    },
    {
     "data": {
      "image/png": "[encoded data removed]",
      "text/plain": [
       "<Figure size 450x450 with 1 Axes>"
      ]
     },
     "metadata": {
      "needs_background": "light"
     },
     "output_type": "display_data"
    }
   ],
   "source": [
    "s = '1'\n",
    "Mc_list = ['02','08','20']\n",
    "\n",
    "fig = plt.figure(figsize=(3,3),dpi=150)\n",
    "ax = plt.subplot(111, aspect='equal')\n",
    "\n",
    "for i,Mc in enumerate(Mc_list):\n",
    "    directory = '/projects/ShockInducedMix/ShearLayerData/production/Mc%s/rr%s/1024x1448x512/'%(Mc,s)\n",
    "    filename_prefix = directory + '/shearlayer_'\n",
    "    inp = nml.inputs(directory)\n",
    "    Ny = int(Ny)\n",
    "    y = np.linspace(-Ly/2.,Ly/2.,Ny)\n",
    "    x = np.linspace(0,Lx,Nx)\n",
    "    z = np.linspace(0,Lz,Nz)\n",
    "\n",
    "    flist = glob.glob(directory+\"*utilde*.dat\")\n",
    "    flist.sort()\n",
    "    dir_out = directory.split('/projects/ShockInducedMix/')[-1]\n",
    "    dir_out = '/home/kmatsuno/' + dir_out + '/'\n",
    "\n",
    "    if Mc=='02': ist=-6;ien=-1\n",
    "    if Mc=='08': ist = 5;ien=None\n",
    "    if Mc=='20': ist = 5;ien=-2\n",
    "        \n",
    "    print(inp.Mc)\n",
    "    for j,fname in enumerate(flist[ist:ien]):\n",
    "        tID = fname.split('/')[-1]\n",
    "        tID = tID.split('_')[-1]\n",
    "        tID = int(tID.split('.')[0])\n",
    "        time = nml.read_time(directory,tID)\n",
    "\n",
    "        # Get dtheta\n",
    "        dtheta = get_dtheta(directory,time)\n",
    "\n",
    "        L99,ly,lx,lz = get_data(dir_out,tID)\n",
    "        if j==0: ells = Ellipse((0,0),lx/L99, ly/L99, 0,fill=False,edgecolor='C%i'%i,label='Mc')\n",
    "        else: ells = Ellipse((0,0),lx/L99, ly/L99, 0,fill=False,edgecolor='C%i'%i)\n",
    "        ells.set_alpha(0.4)\n",
    "        ax.add_artist(ells,)\n",
    "        #plt.plot(eta,fplot,color='C%i'%i,alpha=0.5,label='Mc = {}'.format(inp.Mc))\n",
    "#         else: plt.plot(eta,fplot,color='C%i'%i,alpha=0.5)\n",
    "\n",
    "plt.xlim([-0.5,0.5])\n",
    "plt.ylim([-0.5,0.5])\n",
    "# plt.xlabel(r'$\\eta$')\n",
    "# plt.ylabel(r\"$\\overline{\\rho'%s'}$\"%comp)\n",
    "# plt.legend()\n",
    "plt.grid(True)\n"
   ]
  }
 ],
 "metadata": {
  "kernelspec": {
   "display_name": "Python 2",
   "language": "python",
   "name": "python2"
  },
  "language_info": {
   "codemirror_mode": {
    "name": "ipython",
    "version": 2
   },
   "file_extension": ".py",
   "mimetype": "text/x-python",
   "name": "python",
   "nbconvert_exporter": "python",
   "pygments_lexer": "ipython2",
   "version": "2.7.5"
  }
 },
 "nbformat": 4,
 "nbformat_minor": 2
}
