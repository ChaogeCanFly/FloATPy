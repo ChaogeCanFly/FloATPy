{
 "cells": [
  {
   "cell_type": "code",
   "execution_count": 6,
   "metadata": {},
   "outputs": [],
   "source": [
    "import h5py\n",
    "import matplotlib.pyplot as plt\n",
    "import matplotlib.gridspec as gridspec\n",
    "from mpl_toolkits.axes_grid1 import make_axes_locatable\n",
    "%matplotlib inline\n",
    "%config InlineBackend.figure_format = 'png'\n",
    "import numpy as np\n",
    "import floatpy.readers.padeops_reader as por\n",
    "import scripts.statistics as stats\n",
    "import scripts.get_namelist as nml\n",
    "from scripts.common import *\n"
   ]
  },
  {
   "cell_type": "code",
   "execution_count": 12,
   "metadata": {},
   "outputs": [
    {
     "name": "stdout",
     "output_type": "stream",
     "text": [
      "Params for this run:\n",
      "\tMc = 0.4\n",
      "\tRe = 1000.0\n",
      "\trr = 1.0\n",
      "Params for this grid:\n",
      "\tN = 1024x1448x512\n",
      "\tL = 150.0x200.0x75.0\n",
      "Steps: [0, 1, 2, 3, 4, 5, 6, 7, 8, 9, 10]\n"
     ]
    }
   ],
   "source": [
    "# directory = '/projects/ShockInducedMix/ShearLayerData/production/Mc02/rr1/256x512x128/'\n",
    "# directory = '/projects/ShockInducedMix/ShearLayerData/production/Mc02/rr1/512x724x256/'\n",
    "directory='/lus/theta-fs0/projects/HighMachTurbulence/ShearLayerData/temporal/Mc04/rr1/1024x1448x512/'\n",
    "\n",
    "filename_prefix = directory+'/shearlayer_'\n",
    "reader = por.PadeopsReader(filename_prefix, periodic_dimensions=(True,False,True))\n",
    "steps = sorted(reader.steps)\n",
    "\n",
    "inp = nml.inputs(directory,verbose=True)\n",
    "Nx,Ny,Nz,Lx,Ly,Lz = nml.read_grid_params(directory,verbose=True)\n",
    "Ny = int(Ny)\n",
    "y = np.linspace(Ly/2.,-Ly/2.,Ny)\n",
    "\n",
    "print(\"Steps: {}\".format(steps))"
   ]
  },
  {
   "cell_type": "code",
   "execution_count": 13,
   "metadata": {},
   "outputs": [
    {
     "ename": "IOError",
     "evalue": "[Errno 2] No such file or directory: '/lus/theta-fs0/projects/HighMachTurbulence/ShearLayerData/temporal/Mc04/rr1/1024x1448x512//shearlayer_utilde_0010.dat'",
     "output_type": "error",
     "traceback": [
      "\u001b[0;31m---------------------------------------------------------------------------\u001b[0m",
      "\u001b[0;31mIOError\u001b[0m                                   Traceback (most recent call last)",
      "\u001b[0;32m<ipython-input-13-55d471ba11c9>\u001b[0m in \u001b[0;36m<module>\u001b[0;34m()\u001b[0m\n\u001b[1;32m     53\u001b[0m \u001b[0;34m\u001b[0m\u001b[0m\n\u001b[1;32m     54\u001b[0m \u001b[0mreader\u001b[0m\u001b[0;34m.\u001b[0m\u001b[0mstep\u001b[0m \u001b[0;34m=\u001b[0m \u001b[0mmax\u001b[0m\u001b[0;34m(\u001b[0m\u001b[0msteps\u001b[0m\u001b[0;34m)\u001b[0m\u001b[0;34m\u001b[0m\u001b[0m\n\u001b[0;32m---> 55\u001b[0;31m \u001b[0mic\u001b[0m\u001b[0;34m,\u001b[0m \u001b[0myc\u001b[0m \u001b[0;34m=\u001b[0m \u001b[0mget_centerline\u001b[0m\u001b[0;34m(\u001b[0m\u001b[0mdirectory\u001b[0m\u001b[0;34m,\u001b[0m\u001b[0my\u001b[0m\u001b[0;34m,\u001b[0m\u001b[0mmax\u001b[0m\u001b[0;34m(\u001b[0m\u001b[0msteps\u001b[0m\u001b[0;34m)\u001b[0m\u001b[0;34m)\u001b[0m\u001b[0;34m\u001b[0m\u001b[0m\n\u001b[0m\u001b[1;32m     56\u001b[0m \u001b[0;32mprint\u001b[0m\u001b[0;34m(\u001b[0m\u001b[0mic\u001b[0m\u001b[0;34m,\u001b[0m\u001b[0myc\u001b[0m\u001b[0;34m)\u001b[0m\u001b[0;34m\u001b[0m\u001b[0m\n\u001b[1;32m     57\u001b[0m \u001b[0;34m\u001b[0m\u001b[0m\n",
      "\u001b[0;32m/gpfs/mira-home/kmatsuno/FloATPy/post/scripts/common.pyc\u001b[0m in \u001b[0;36mget_centerline\u001b[0;34m(directory, y, tID)\u001b[0m\n\u001b[1;32m     64\u001b[0m \u001b[0;32mdef\u001b[0m \u001b[0mget_centerline\u001b[0m\u001b[0;34m(\u001b[0m\u001b[0mdirectory\u001b[0m\u001b[0;34m,\u001b[0m\u001b[0my\u001b[0m\u001b[0;34m,\u001b[0m\u001b[0mtID\u001b[0m\u001b[0;34m)\u001b[0m\u001b[0;34m:\u001b[0m\u001b[0;34m\u001b[0m\u001b[0m\n\u001b[1;32m     65\u001b[0m     \u001b[0;32mif\u001b[0m \u001b[0;34m(\u001b[0m\u001b[0my\u001b[0m\u001b[0;34m[\u001b[0m\u001b[0;36m0\u001b[0m\u001b[0;34m]\u001b[0m\u001b[0;34m<\u001b[0m\u001b[0my\u001b[0m\u001b[0;34m[\u001b[0m\u001b[0;34m-\u001b[0m\u001b[0;36m1\u001b[0m\u001b[0;34m]\u001b[0m\u001b[0;34m)\u001b[0m\u001b[0;34m:\u001b[0m \u001b[0;32mprint\u001b[0m\u001b[0;34m(\u001b[0m\u001b[0;34m'y must be from Ly/2,-Ly/2'\u001b[0m\u001b[0;34m)\u001b[0m\u001b[0;34m\u001b[0m\u001b[0m\n\u001b[0;32m---> 66\u001b[0;31m     \u001b[0mutilde\u001b[0m \u001b[0;34m=\u001b[0m \u001b[0mnp\u001b[0m\u001b[0;34m.\u001b[0m\u001b[0mfromfile\u001b[0m\u001b[0;34m(\u001b[0m\u001b[0mdirectory\u001b[0m \u001b[0;34m+\u001b[0m \u001b[0;34m'/shearlayer_utilde_%04d.dat'\u001b[0m\u001b[0;34m%\u001b[0m\u001b[0mtID\u001b[0m\u001b[0;34m,\u001b[0m\u001b[0msep\u001b[0m\u001b[0;34m=\u001b[0m\u001b[0;34m' '\u001b[0m\u001b[0;34m)\u001b[0m\u001b[0;34m\u001b[0m\u001b[0m\n\u001b[0m\u001b[1;32m     67\u001b[0m     \u001b[0mic\u001b[0m \u001b[0;34m=\u001b[0m \u001b[0mnp\u001b[0m\u001b[0;34m.\u001b[0m\u001b[0margmin\u001b[0m\u001b[0;34m(\u001b[0m\u001b[0mabs\u001b[0m\u001b[0;34m(\u001b[0m\u001b[0mutilde\u001b[0m\u001b[0;34m)\u001b[0m\u001b[0;34m)\u001b[0m\u001b[0;34m\u001b[0m\u001b[0m\n\u001b[1;32m     68\u001b[0m     \u001b[0;32mreturn\u001b[0m \u001b[0mic\u001b[0m\u001b[0;34m,\u001b[0m\u001b[0my\u001b[0m\u001b[0;34m[\u001b[0m\u001b[0mic\u001b[0m\u001b[0;34m]\u001b[0m\u001b[0;34m\u001b[0m\u001b[0m\n",
      "\u001b[0;31mIOError\u001b[0m: [Errno 2] No such file or directory: '/lus/theta-fs0/projects/HighMachTurbulence/ShearLayerData/temporal/Mc04/rr1/1024x1448x512//shearlayer_utilde_0010.dat'"
     ]
    }
   ],
   "source": [
    "\n",
    "def visualize_all_planes(Nx,Ny,Nz, reader, qname, ic, cmap, savename=''):\n",
    "    \n",
    "    fig = plt.figure(figsize=(6,6), dpi=100) \n",
    "    gs = gridspec.GridSpec(2,2,width_ratios=[Nx/Nz,0.8],height_ratios=[Ny/Nz,1])\n",
    "    #gs.update(wspace=0.005, hspace=0.05) # set the spacing between axes. \n",
    "    \n",
    "    labelsize = 0.75*fs\n",
    "    \n",
    "    ax = {}\n",
    "    for i in range(3):\n",
    "        ax[i] = plt.subplot(gs[i])\n",
    "        ax[i].set_xticks([])\n",
    "        ax[i].set_yticks([]) \n",
    "    \n",
    "    q = reader.readData(qname)\n",
    "    q = np.squeeze(np.array(q))\n",
    "    maxval = np.amax(q[:,:,0]);\n",
    "    minval = np.amin(q[:,:,0]);\n",
    "    \n",
    "    # xy plane\n",
    "    a = ax[0]\n",
    "    im = a.imshow( np.transpose(q[:,:,0]), vmin=minval, vmax=maxval, cmap=cmap, origin='lower', interpolation='nearest')#spline36\n",
    "    a.set_xlabel('x',fontsize=labelsize)\n",
    "    a.set_ylabel('y',fontsize=labelsize)\n",
    "    \n",
    "    # yz plane\n",
    "    a = ax[1]\n",
    "    im = a.imshow( q[0,:,:], vmin=minval, vmax=maxval, cmap=cmap, origin='lower', interpolation='nearest')#spline36\n",
    "    a.set_xlabel('z',fontsize=labelsize)\n",
    "    a.set_ylabel('y',fontsize=labelsize)\n",
    "    \n",
    "    # xz plane\n",
    "    a = ax[2]\n",
    "    im = a.imshow( np.transpose(np.squeeze(q[:,ic,:])), vmin=minval, vmax=maxval, cmap=cmap, origin='lower', interpolation='nearest')#spline36\n",
    "    a.set_xlabel('x',fontsize=labelsize)\n",
    "    a.set_ylabel('z',fontsize=labelsize) \n",
    "    \n",
    "    # set the colorbar\n",
    "    divider1 = make_axes_locatable(ax[1])\n",
    "    cax = divider1.append_axes('right', size='10%', pad=0.1)\n",
    "    cbar = plt.colorbar(im, cax,ticks=[minval, maxval])\n",
    "    cbar.ax.set_yticklabels(['%0.2f'%(minval), '%0.2f'%(maxval)]) \n",
    "    cbar.ax.tick_params(labelsize=labelsize)   \n",
    "    \n",
    "    # set the overall title and save\n",
    "    fig.suptitle('Time: {}'.format(np.around(reader.time,-1)),size=fs,y=0.95)\n",
    "    if savename:\n",
    "        plt.savefig(savename, dpi=300,bbox_inches='tight')\n",
    "        plt.close(fig)\n",
    "        print \"Saved plot to \",savename\n",
    "    else: plt.show()\n",
    "\n",
    "reader.step = max(steps)\n",
    "ic, yc = get_centerline(directory,y,max(steps))\n",
    "print(ic,yc)\n",
    "\n",
    "qname='v'\n",
    "visualize_all_planes(Nx,Ny,Nz, reader, qname, ic=ic, cmap='inferno', savename='') #inferno,afmhot,viridis"
   ]
  },
  {
   "cell_type": "code",
   "execution_count": 15,
   "metadata": {
    "scrolled": true
   },
   "outputs": [
    {
     "name": "stdout",
     "output_type": "stream",
     "text": [
      "Saved plot to  /lus/theta-fs0/projects/HighMachTurbulence/ShearLayerData/temporal/Mc04/rr1/1024x1448x512/img/slice_v_0000.png\n",
      "Saved plot to  /lus/theta-fs0/projects/HighMachTurbulence/ShearLayerData/temporal/Mc04/rr1/1024x1448x512/img/slice_v_0001.png\n",
      "Saved plot to  /lus/theta-fs0/projects/HighMachTurbulence/ShearLayerData/temporal/Mc04/rr1/1024x1448x512/img/slice_v_0002.png\n",
      "Saved plot to  /lus/theta-fs0/projects/HighMachTurbulence/ShearLayerData/temporal/Mc04/rr1/1024x1448x512/img/slice_v_0003.png\n",
      "Saved plot to  /lus/theta-fs0/projects/HighMachTurbulence/ShearLayerData/temporal/Mc04/rr1/1024x1448x512/img/slice_v_0004.png\n",
      "Saved plot to  /lus/theta-fs0/projects/HighMachTurbulence/ShearLayerData/temporal/Mc04/rr1/1024x1448x512/img/slice_v_0005.png\n",
      "Saved plot to  /lus/theta-fs0/projects/HighMachTurbulence/ShearLayerData/temporal/Mc04/rr1/1024x1448x512/img/slice_v_0006.png\n",
      "Saved plot to  /lus/theta-fs0/projects/HighMachTurbulence/ShearLayerData/temporal/Mc04/rr1/1024x1448x512/img/slice_v_0007.png\n",
      "Saved plot to  /lus/theta-fs0/projects/HighMachTurbulence/ShearLayerData/temporal/Mc04/rr1/1024x1448x512/img/slice_v_0008.png\n",
      "Saved plot to  /lus/theta-fs0/projects/HighMachTurbulence/ShearLayerData/temporal/Mc04/rr1/1024x1448x512/img/slice_v_0009.png\n",
      "Saved plot to  /lus/theta-fs0/projects/HighMachTurbulence/ShearLayerData/temporal/Mc04/rr1/1024x1448x512/img/slice_v_0010.png\n"
     ]
    }
   ],
   "source": [
    "# plot all\n",
    "for step in steps[:]:\n",
    "    reader.step = step\n",
    "    savename = directory+\"img/slice_%s_%04d.png\"%(qname,step)\n",
    "    visualize_all_planes(Nx,Ny,Nz, reader, 'v', ic = int(Ny/2), cmap='inferno', savename=savename) \n",
    "    plt.close()"
   ]
  }
 ],
 "metadata": {
  "kernelspec": {
   "display_name": "Python 2",
   "language": "python",
   "name": "python2"
  },
  "language_info": {
   "codemirror_mode": {
    "name": "ipython",
    "version": 2
   },
   "file_extension": ".py",
   "mimetype": "text/x-python",
   "name": "python",
   "nbconvert_exporter": "python",
   "pygments_lexer": "ipython2",
   "version": "2.7.5"
  }
 },
 "nbformat": 4,
 "nbformat_minor": 2
}
