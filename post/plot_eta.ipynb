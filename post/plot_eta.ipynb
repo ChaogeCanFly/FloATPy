{
 "cells": [
  {
   "cell_type": "code",
   "execution_count": 5,
   "metadata": {},
   "outputs": [
    {
     "name": "stdout",
     "output_type": "stream",
     "text": [
      "TKE steps:\t[0, 1, 2, 3, 4, 5, 6, 7, 8, 9]\n",
      "Params for this run:\n",
      "\tMc = 0.8\n",
      "\tRe = 1000.0\n",
      "\trr = 1.0\n"
     ]
    }
   ],
   "source": [
    "import h5py\n",
    "import matplotlib.pyplot as plt\n",
    "from mpl_toolkits.axes_grid1 import make_axes_locatable\n",
    "import numpy as np\n",
    "import floatpy.readers.padeops_reader as por\n",
    "%matplotlib inline\n",
    "%config InlineBackend.figure_format = 'png'\n",
    "import scripts.get_namelist as nml\n",
    "\n",
    "xdir = 0\n",
    "zdir = 2\n",
    "fs = 12\n",
    "\n",
    "# directory = '/projects/ShockInducedMix/ShearLayerData/production/Mc02/rr1/256x512x128/'\n",
    "directory = '/projects/ShockInducedMix/ShearLayerData/production/Mc08/rr1/512x724x256/'\n",
    "reader = por.PadeopsReader(directory+'/shearlayer_', periodic_dimensions=(True,False,True))\n",
    "readerTKE = por.PadeopsReader(directory+'TKEBudget_', periodic_dimensions=(True,False,True))\n",
    "x, y, z = readerTKE.readCoordinates()\n",
    "ymin, ymax = y[0,0,0], y[-1,-1,-1]\n",
    "steps = sorted(readerTKE.steps)\n",
    "print(\"TKE steps:\\t{}\".format(steps))\n",
    "\n",
    "inp = nml.inputs(directory,verbose=1)\n",
    "   \n",
    "# 'rho_bar', 'tke', 'TKE_rate','dissipation', 'dissipation_num', 'p_dil_fluct', 'fluct_p_dil', 'production','baropycnal', 'u_tilde', 'u_pprime_bar'"
   ]
  },
  {
   "cell_type": "code",
   "execution_count": 8,
   "metadata": {},
   "outputs": [
    {
     "name": "stdout",
     "output_type": "stream",
     "text": [
      "2\t100\t0.053714\n",
      "3\t149\t0.034533\n",
      "4\t200\t0.025577\n",
      "5\t149\t0.036018\n"
     ]
    },
    {
     "ename": "AssertionError",
     "evalue": "Step to read in is not available in the dataset.",
     "output_type": "error",
     "traceback": [
      "\u001b[0;31m---------------------------------------------------------------------------\u001b[0m",
      "\u001b[0;31mAssertionError\u001b[0m                            Traceback (most recent call last)",
      "\u001b[0;32m<ipython-input-8-eca9642a3136>\u001b[0m in \u001b[0;36m<module>\u001b[0;34m()\u001b[0m\n\u001b[1;32m     11\u001b[0m \u001b[0;34m\u001b[0m\u001b[0m\n\u001b[1;32m     12\u001b[0m \u001b[0;32mfor\u001b[0m \u001b[0mstep\u001b[0m \u001b[0;32min\u001b[0m \u001b[0;34m[\u001b[0m\u001b[0;36m2\u001b[0m\u001b[0;34m,\u001b[0m\u001b[0;36m3\u001b[0m\u001b[0;34m,\u001b[0m\u001b[0;36m4\u001b[0m\u001b[0;34m,\u001b[0m\u001b[0;36m5\u001b[0m\u001b[0;34m,\u001b[0m\u001b[0;36m8\u001b[0m\u001b[0;34m,\u001b[0m\u001b[0;36m9\u001b[0m\u001b[0;34m]\u001b[0m\u001b[0;34m:\u001b[0m\u001b[0;34m\u001b[0m\u001b[0m\n\u001b[0;32m---> 13\u001b[0;31m     \u001b[0mt\u001b[0m\u001b[0;34m,\u001b[0m\u001b[0meta_vec\u001b[0m \u001b[0;34m=\u001b[0m \u001b[0meta\u001b[0m\u001b[0;34m(\u001b[0m\u001b[0mstep\u001b[0m\u001b[0;34m)\u001b[0m\u001b[0;34m\u001b[0m\u001b[0m\n\u001b[0m\u001b[1;32m     14\u001b[0m     \u001b[0;32mprint\u001b[0m\u001b[0;34m(\u001b[0m\u001b[0;34m\"%i\\t%i\\t%5f\"\u001b[0m\u001b[0;34m%\u001b[0m\u001b[0;34m(\u001b[0m\u001b[0mstep\u001b[0m\u001b[0;34m,\u001b[0m\u001b[0mt\u001b[0m\u001b[0;34m,\u001b[0m\u001b[0mmin\u001b[0m\u001b[0;34m(\u001b[0m\u001b[0meta_vec\u001b[0m\u001b[0;34m)\u001b[0m\u001b[0;34m)\u001b[0m\u001b[0;34m)\u001b[0m\u001b[0;34m\u001b[0m\u001b[0m\n",
      "\u001b[0;32m<ipython-input-8-eca9642a3136>\u001b[0m in \u001b[0;36meta\u001b[0;34m(step)\u001b[0m\n\u001b[1;32m      1\u001b[0m \u001b[0;32mdef\u001b[0m \u001b[0meta\u001b[0m\u001b[0;34m(\u001b[0m\u001b[0mstep\u001b[0m\u001b[0;34m)\u001b[0m\u001b[0;34m:\u001b[0m\u001b[0;34m\u001b[0m\u001b[0m\n\u001b[1;32m      2\u001b[0m     \u001b[0mreaderTKE\u001b[0m\u001b[0;34m.\u001b[0m\u001b[0mstep\u001b[0m \u001b[0;34m=\u001b[0m \u001b[0mstep\u001b[0m\u001b[0;34m\u001b[0m\u001b[0m\n\u001b[0;32m----> 3\u001b[0;31m     \u001b[0mreader\u001b[0m\u001b[0;34m.\u001b[0m\u001b[0mstep\u001b[0m \u001b[0;34m=\u001b[0m \u001b[0mstep\u001b[0m\u001b[0;34m\u001b[0m\u001b[0m\n\u001b[0m\u001b[1;32m      4\u001b[0m     \u001b[0meps\u001b[0m \u001b[0;34m=\u001b[0m \u001b[0mreaderTKE\u001b[0m\u001b[0;34m.\u001b[0m\u001b[0mreadData\u001b[0m\u001b[0;34m(\u001b[0m\u001b[0;34m(\u001b[0m\u001b[0;34m'dissipation'\u001b[0m\u001b[0;34m)\u001b[0m\u001b[0;34m)\u001b[0m\u001b[0;34m\u001b[0m\u001b[0m\n\u001b[1;32m      5\u001b[0m     \u001b[0meps\u001b[0m \u001b[0;34m=\u001b[0m \u001b[0mnp\u001b[0m\u001b[0;34m.\u001b[0m\u001b[0msqueeze\u001b[0m\u001b[0;34m(\u001b[0m\u001b[0mnp\u001b[0m\u001b[0;34m.\u001b[0m\u001b[0marray\u001b[0m\u001b[0;34m(\u001b[0m\u001b[0meps\u001b[0m\u001b[0;34m)\u001b[0m\u001b[0;34m)\u001b[0m\u001b[0;34m\u001b[0m\u001b[0m\n",
      "\u001b[0;32m/gpfs/mira-home/kmatsuno/floatpy_env/lib/python2.7/site-packages/floatpy/readers/padeops_reader.pyc\u001b[0m in \u001b[0;36msetStep\u001b[0;34m(self, step)\u001b[0m\n\u001b[1;32m     48\u001b[0m         \"\"\"\n\u001b[1;32m     49\u001b[0m \u001b[0;34m\u001b[0m\u001b[0m\n\u001b[0;32m---> 50\u001b[0;31m         \u001b[0;32massert\u001b[0m \u001b[0;34m(\u001b[0m\u001b[0mstep\u001b[0m \u001b[0;32min\u001b[0m \u001b[0mself\u001b[0m\u001b[0;34m.\u001b[0m\u001b[0m_steps\u001b[0m\u001b[0;34m)\u001b[0m\u001b[0;34m,\u001b[0m \u001b[0;34m\"Step to read in is not available in the dataset.\"\u001b[0m\u001b[0;34m\u001b[0m\u001b[0m\n\u001b[0m\u001b[1;32m     51\u001b[0m         \u001b[0mself\u001b[0m\u001b[0;34m.\u001b[0m\u001b[0m_step\u001b[0m \u001b[0;34m=\u001b[0m \u001b[0mstep\u001b[0m\u001b[0;34m\u001b[0m\u001b[0m\n\u001b[1;32m     52\u001b[0m \u001b[0;34m\u001b[0m\u001b[0m\n",
      "\u001b[0;31mAssertionError\u001b[0m: Step to read in is not available in the dataset."
     ]
    }
   ],
   "source": [
    "def eta(step):\n",
    "    readerTKE.step = step\n",
    "    reader.step = step\n",
    "    eps = readerTKE.readData(('dissipation'))\n",
    "    eps = np.squeeze(np.array(eps))\n",
    "    rho,mu = reader.readData(('rho','mu'))\n",
    "    nu = mu/rho\n",
    "    nu = np.mean(np.mean(nu,axis=zdir),axis=xdir)\n",
    "    nu = np.squeeze(np.array(nu))\n",
    "    return readerTKE.time,(nu**3./eps)**(1./4.)\n",
    "\n",
    "for step in [2,3,4,5,8,9]:\n",
    "    t,eta_vec = eta(step)\n",
    "    print(\"%i\\t%i\\t%5f\"%(step,t,min(eta_vec)))\n"
   ]
  }
 ],
 "metadata": {
  "kernelspec": {
   "display_name": "Python 2",
   "language": "python",
   "name": "python2"
  },
  "language_info": {
   "codemirror_mode": {
    "name": "ipython",
    "version": 2
   },
   "file_extension": ".py",
   "mimetype": "text/x-python",
   "name": "python",
   "nbconvert_exporter": "python",
   "pygments_lexer": "ipython2",
   "version": "2.7.5"
  }
 },
 "nbformat": 4,
 "nbformat_minor": 2
}
