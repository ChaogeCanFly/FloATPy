{
 "cells": [
  {
   "cell_type": "code",
   "execution_count": 123,
   "metadata": {},
   "outputs": [
    {
     "name": "stdout",
     "output_type": "stream",
     "text": [
      "Steps:\t[0, 1000]\n",
      "TKE steps:\t[0]\n",
      "32.107076919687685\n",
      "Params for this run:\n",
      "\tMc = 0.8\n",
      "\tRe = 1000.0\n",
      "\trr = 1.0\n"
     ]
    }
   ],
   "source": [
    "import h5py\n",
    "import matplotlib.pyplot as plt\n",
    "from mpl_toolkits.axes_grid1 import make_axes_locatable\n",
    "import numpy as np\n",
    "import floatpy.readers.padeops_reader as por\n",
    "%matplotlib inline\n",
    "%config InlineBackend.figure_format = 'png'\n",
    "import scripts.get_namelist as nml\n",
    "\n",
    "fs = 12\n",
    "xdir = 0\n",
    "ydir = 1\n",
    "zdir = 2\n",
    "\n",
    "def get_q(reader,qname):\n",
    "    u = reader.readData(qname);\n",
    "    u = np.squeeze(u);\n",
    "    ubar = np.mean(np.mean(u,axis=1),axis=0);\n",
    "    uprime2D = np.squeeze(u-ubar)\n",
    "    return u,ubar,uprime2D\n",
    "\n",
    "def get_qf(reader,qname):#Favre average\n",
    "    r,u = reader.readData(('rho',qname));\n",
    "    u = np.squeeze(u);\n",
    "    r = np.squeeze(r);  \n",
    "    rbar   = np.mean(np.mean(r))\n",
    "    utilde = np.mean(np.mean(r*u))/rbar;\n",
    "    upprime2D = np.squeeze(u-utilde)\n",
    "    return u,utilde,upprime2D\n",
    "\n",
    "# directory = '/projects/ShockInducedMix/ShearLayerData/production/Mc02/rr1/256x512x128/restart_0012/'\n",
    "\n",
    "# directory = '/projects/ShockInducedMix/ShearLayerData/production/Mc04/rr1/1024x1448x512/restart_0006/'\n",
    "# directory = '/projects/ShockInducedMix/ShearLayerData/production/Mc04/rr1/1024x1448x512/restart_0015/'\n",
    "directory = '/projects/ShockInducedMix/ShearLayerData/production/Mc08/rr1/1024x1448x512/restart_0006/'\n",
    "# directory = '/projects/ShockInducedMix/ShearLayerData/production/Mc08/rr1/512x724x256/'\n",
    "\n",
    "# directory = '/projects/ShockInducedMix/ShearLayerData/production/Mc20/rr1/1024x1448x512/restart_0030/'\n",
    "# directory = '/projects/ShockInducedMix/ShearLayerData/production/Mc20/rr1/1024x1448x512/restart_0044/'\n",
    "\n",
    "reader = por.PadeopsReader(directory+'/shearlayer_', periodic_dimensions=(True,False,True))\n",
    "steps = sorted(reader.steps)\n",
    "print(\"Steps:\\t{}\".format(steps))\n",
    "readerTKE = por.PadeopsReader(directory+'TKEBudget_', periodic_dimensions=(True,False,True))\n",
    "x, y, z = readerTKE.readCoordinates()\n",
    "ymin, ymax = y[0,0,0], y[-1,-1,-1]\n",
    "stepsTKE = sorted(readerTKE.steps)\n",
    "print(\"TKE steps:\\t{}\".format(stepsTKE))\n",
    "\n",
    "Nx,Ny,Nz,Lx,Ly,Lz = nml.read_grid_params(directory)\n",
    "kx = [2.0*np.pi/float(Lx)*w for w in range(0,int(Nx/2))]; kx = np.array(kx)\n",
    "kz = [2.0*np.pi/float(Lz)*w for w in range(0,int(Nz/2))]; kz = np.array(kz)\n",
    "dx = Lx/Nx\n",
    "print(max(kx))\n",
    "inp = nml.inputs(directory,verbose=1)\n",
    "   \n",
    "# 'rho_bar', 'tke', 'TKE_rate','dissipation', 'dissipation_num', 'p_dil_fluct', 'fluct_p_dil', 'production','baropycnal', 'u_tilde', 'u_pprime_bar'"
   ]
  },
  {
   "cell_type": "code",
   "execution_count": 124,
   "metadata": {},
   "outputs": [
    {
     "name": "stdout",
     "output_type": "stream",
     "text": [
      "step\ttime\teta\t\teta/dx\n",
      "0\t99\t0.000061\t0.000626\n"
     ]
    },
    {
     "data": {
      "image/png": "[encoded data removed]",
      "text/plain": [
       "<Figure size 432x288 with 1 Axes>"
      ]
     },
     "metadata": {
      "needs_background": "light"
     },
     "output_type": "display_data"
    }
   ],
   "source": [
    "def get_eta(reader,readerTKE,yslice):\n",
    "    \n",
    "    diss,diss_num = readerTKE.readData(('dissipation','dissipation_num'))\n",
    "    eps = np.squeeze(np.array(diss+diss_num))\n",
    "    eps = eps[yslice]\n",
    "\n",
    "    rho,mu = reader.readData(('rho','mu'))\n",
    "    nu = mu/rho\n",
    "    nu = np.mean(np.mean(nu,axis=zdir),axis=xdir)\n",
    "    nu = np.squeeze(np.array(nu))\n",
    "    yslice = np.argmax(nu)\n",
    "    plt.plot(nu)\n",
    "    nu = nu[yslice]\n",
    "    \n",
    "    eta = (nu**0.75)*(eps**-0.25)\n",
    "    u_eta = (nu*eps)**0.25\n",
    "    t_eta = (nu/eps)**0.5\n",
    "    \n",
    "    return readerTKE.time,nu,eps,eta,u_eta,t_eta\n",
    "\n",
    "reader.step = max(steps)\n",
    "\n",
    "print(\"step\\ttime\\teta\\t\\teta/dx\")\n",
    "for step in stepsTKE:\n",
    "    readerTKE.step = step\n",
    "    t,nu,eps,eta,u_eta,t_eta = get_eta(reader,readerTKE,int(Ny)/2)\n",
    "    print(\"%i\\t%0.2d\\t%5f\\t%5f\"%(step,t,eta,eta/dx))\n",
    "plt.show()\n"
   ]
  },
  {
   "cell_type": "code",
   "execution_count": 122,
   "metadata": {},
   "outputs": [
    {
     "ename": "NameError",
     "evalue": "name 'stepsTKE' is not defined",
     "output_type": "error",
     "traceback": [
      "\u001b[0;31m\u001b[0m",
      "\u001b[0;31mNameError\u001b[0mTraceback (most recent call last)",
      "\u001b[0;32m<ipython-input-122-5942967d233d>\u001b[0m in \u001b[0;36m<module>\u001b[0;34m()\u001b[0m\n\u001b[1;32m     62\u001b[0m     \u001b[0mplt\u001b[0m\u001b[0;34m.\u001b[0m\u001b[0msubplots_adjust\u001b[0m\u001b[0;34m(\u001b[0m\u001b[0mwspace\u001b[0m\u001b[0;34m=\u001b[0m\u001b[0;36m0.5\u001b[0m\u001b[0;34m,\u001b[0m\u001b[0mhspace\u001b[0m\u001b[0;34m=\u001b[0m\u001b[0;36m0.1\u001b[0m\u001b[0;34m)\u001b[0m\u001b[0;34m\u001b[0m\u001b[0m\n\u001b[1;32m     63\u001b[0m \u001b[0;34m\u001b[0m\u001b[0m\n\u001b[0;32m---> 64\u001b[0;31m \u001b[0mreaderTKE\u001b[0m\u001b[0;34m.\u001b[0m\u001b[0mstep\u001b[0m \u001b[0;34m=\u001b[0m \u001b[0mmax\u001b[0m\u001b[0;34m(\u001b[0m\u001b[0mstepsTKE\u001b[0m\u001b[0;34m)\u001b[0m\u001b[0;34m\u001b[0m\u001b[0m\n\u001b[0m\u001b[1;32m     65\u001b[0m \u001b[0mreader\u001b[0m\u001b[0;34m.\u001b[0m\u001b[0mstep\u001b[0m \u001b[0;34m=\u001b[0m \u001b[0mmax\u001b[0m\u001b[0;34m(\u001b[0m\u001b[0msteps\u001b[0m\u001b[0;34m)\u001b[0m\u001b[0;34m\u001b[0m\u001b[0m\n\u001b[1;32m     66\u001b[0m \u001b[0;32mprint\u001b[0m\u001b[0;34m(\u001b[0m\u001b[0;34m\"Time: {}\"\u001b[0m\u001b[0;34m.\u001b[0m\u001b[0mformat\u001b[0m\u001b[0;34m(\u001b[0m\u001b[0mreaderTKE\u001b[0m\u001b[0;34m.\u001b[0m\u001b[0mtime\u001b[0m\u001b[0;34m)\u001b[0m\u001b[0;34m)\u001b[0m\u001b[0;34m\u001b[0m\u001b[0m\n",
      "\u001b[0;31mNameError\u001b[0m: name 'stepsTKE' is not defined"
     ]
    }
   ],
   "source": [
    "# Dissipation spectrum\n",
    "\n",
    "color1=[51./255, 105./255, 169./255]\n",
    "color2=[200./255, 90./255, 90./255]\n",
    "\n",
    "def Eii(uprime,k_axis):\n",
    "    uhat = 1./Nx * np.fft.fft(uprime,axis=k_axis)\n",
    "    return 2.* np.mean( np.square(np.abs(uhat)),1)\n",
    "\n",
    "def energy_spectra(reader,readerTKE,yslice):\n",
    "    reader.sub_domain = (0,yslice,0), (reader.domain_size[0]-1, yslice, reader.domain_size[2]-1)    \n",
    "    # Get kolmogorov scales\n",
    "#     t,nu,eps,eta,u_eta,t_eta = get_eta(reader,readerTKE,int(Ny)/2)\n",
    "\n",
    "    # Get tke\n",
    "    r,R,rprime2D = get_qf(reader,'rho')\n",
    "    u,U,uprime2D = get_qf(reader,'u')\n",
    "    v,V,vprime2D = get_qf(reader,'v')\n",
    "    w,W,wprime2D = get_qf(reader,'w')\n",
    "    TKEspec = Eii(uprime2D**2+vprime2D**2+wprime2D**2,k_axis=0)\n",
    "    \n",
    "    idx = range(int(Nx)/2)\n",
    "    E = TKEspec[idx]\n",
    "    D = 2*nu*E*kx**2\n",
    "        \n",
    "    fig, ax = plt.subplots(1,2, figsize=(10,4), dpi=200)\n",
    "    i=0\n",
    "    ax[i].semilogx(kx*eta,2*kx*E/E[0]**2,color=color1)\n",
    "    ax[i].set_xlabel(r'$k_x\\eta$')\n",
    "    ax[i].set_ylabel(r'$2kE(k)/q^2$')\n",
    "    ax[i].tick_params(axis='y', labelcolor=color1)\n",
    "    ax[i].grid(True)\n",
    "        \n",
    "    ax2 = ax[i].twinx()\n",
    "    ax2.semilogx(kx*eta,kx*D/eps,color=color2)\n",
    "    ax2.set_ylabel(r'$kD(k)/\\epsilon$')\n",
    "    ax2.tick_params(axis='y', labelcolor=color2)\n",
    "        \n",
    "    plt.subplots_adjust(wspace=0.5,hspace=0.1)\n",
    "    \n",
    "    fig, ax = plt.subplots(1,3, figsize=(12,3), dpi=200)\n",
    "    i=0\n",
    "    for i,qname in zip(range(3),['r','u','v']):\n",
    "        if qname=='r': qprime = rprime2D; qname=r'$\\rho$'\n",
    "        elif qname=='u': qprime = uprime2D\n",
    "        elif qname=='v': qprime = vprime2D\n",
    "        Espec = Eii(qprime,k_axis=0)\n",
    "        E = Espec[idx]\n",
    "        D = 2*nu*E*kx**2\n",
    "        \n",
    "        ax[i].semilogx(kx*eta,2*kx*E/E[0]**2,color=color1)\n",
    "        ax[i].set_xlabel(r'$k_x\\eta$')\n",
    "        ax[i].tick_params(axis='y', labelcolor=color1)\n",
    "        ax[i].grid(True)\n",
    "        ax[i].set_title(qname)\n",
    "\n",
    "        ax2 = ax[i].twinx()\n",
    "        ax2.semilogx(kx*eta,kx*D/eps,color=color2)\n",
    "        #ax2.set_ylabel(r'$kD(k)/\\epsilon$')\n",
    "        ax2.tick_params(axis='y', labelcolor=color2)\n",
    "\n",
    "    plt.subplots_adjust(wspace=0.5,hspace=0.1)\n",
    "\n",
    "readerTKE.step = max(stepsTKE)\n",
    "reader.step = max(steps)\n",
    "print(\"Time: {}\".format(readerTKE.time))\n",
    "\n",
    "mat = energy_spectra(reader,readerTKE,int(Ny)/2)\n",
    "print(max(kx*eta))"
   ]
  },
  {
   "cell_type": "code",
   "execution_count": 119,
   "metadata": {},
   "outputs": [
    {
     "name": "stdout",
     "output_type": "stream",
     "text": [
      "0.02202165350301812\n",
      "0.8838136536501408\n"
     ]
    }
   ],
   "source": [
    "print(eta)\n",
    "print(max(kx*eta))"
   ]
  }
 ],
 "metadata": {
  "kernelspec": {
   "display_name": "Python 2",
   "language": "python",
   "name": "python2"
  },
  "language_info": {
   "codemirror_mode": {
    "name": "ipython",
    "version": 2
   },
   "file_extension": ".py",
   "mimetype": "text/x-python",
   "name": "python",
   "nbconvert_exporter": "python",
   "pygments_lexer": "ipython2",
   "version": "2.7.5"
  }
 },
 "nbformat": 4,
 "nbformat_minor": 2
}
