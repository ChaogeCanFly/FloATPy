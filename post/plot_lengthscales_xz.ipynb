{
 "cells": [
  {
   "cell_type": "code",
   "execution_count": 18,
   "metadata": {},
   "outputs": [],
   "source": [
    "import h5py\n",
    "import matplotlib\n",
    "import matplotlib.pyplot as plt\n",
    "from mpl_toolkits.axes_grid1 import make_axes_locatable\n",
    "%matplotlib inline\n",
    "%config InlineBackend.figure_format = 'png'\n",
    "params = {'image.cmap': \"Set2\"}\n",
    "matplotlib.rcParams.update(params)\n",
    "import numpy as np\n",
    "import floatpy.readers.padeops_reader as por\n",
    "import scripts.statistics as stats\n",
    "import scripts.get_namelist as nml\n",
    "\n",
    "fs = 12\n",
    "xdir = 0\n",
    "ydir = 1\n",
    "zdir = 2\n",
    "\n",
    "def get_q(reader,qname):\n",
    "    u = reader.readData(qname);\n",
    "    u = np.squeeze(u);\n",
    "    ubar = np.mean(np.mean(u,axis=1),axis=0);\n",
    "    uprime2D = np.squeeze(u-ubar)\n",
    "    return u,ubar,uprime2D\n",
    "\n",
    "def get_qf(reader,qname):#Favre average\n",
    "    r,u = reader.readData(('rho',qname));\n",
    "    u = np.squeeze(u);\n",
    "    r = np.squeeze(r);  \n",
    "    rbar   = np.mean(np.mean(r))\n",
    "    utilde = np.mean(np.mean(r*u))/rbar;\n",
    "    upprime2D = np.squeeze(u-utilde)\n",
    "    return u,utilde,upprime2D\n",
    "\n",
    "def get_centerline(y,Rij): # either R11 or R22 as a vector\n",
    "    idx = np.argmax(np.squeeze(abs(Rij)))\n",
    "    return y[idx]\n",
    " \n",
    "def smooth_modes(f,nmodes):\n",
    "    fhat = np.fft.fft(f)\n",
    "    fhat[nmodes+1:-(nmodes+1):] = 0\n",
    "    f = np.fft.ifft(fhat)\n",
    "    return f\n",
    "\n",
    "def autocorr(uprime2D):\n",
    "    uhat = np.fft.fftshift(np.fft.fft2(uprime2D))\n",
    "    R_fft = np.square(np.abs(uhat))\n",
    "    R = np.abs(np.fft.fftshift(np.fft.ifft2(R_fft)))\n",
    "    return R/R.max()\n"
   ]
  },
  {
   "cell_type": "code",
   "execution_count": 112,
   "metadata": {},
   "outputs": [
    {
     "name": "stdout",
     "output_type": "stream",
     "text": [
      "Params for this run:\n",
      "\tMc = 0.4\n",
      "\tRe = 1000.0\n",
      "\trr = 1.0\n",
      "Params for this grid:\n",
      "\tN = 1024.0x1448.0x512.0\n",
      "\tL = 150.0x200.0x75.0\n",
      "Steps: (0, 1, 2, 3, 4, 20, 21, 22, 23, 24, 25, 26, 27, 28, 29, 30, 31, 32, 33, 70, 71, 72, 73)\n"
     ]
    }
   ],
   "source": [
    "directory = '/projects/ShockInducedMix/ShearLayerData/production/Mc02/rr1/1024x1448x512/'\n",
    "# directory = '/projects/ShockInducedMix/ShearLayerData/production/Mc02/rr7/1024x1448x512/'\n",
    "# directory = '/projects/ShockInducedMix/ShearLayerData/production/Mc02/rr_7/1024x1448x512/'\n",
    "\n",
    "directory = '/projects/ShockInducedMix/ShearLayerData/production/Mc04/rr1/1024x1448x512/'\n",
    "# directory = '/projects/ShockInducedMix/ShearLayerData/production/Mc08/rr1/1024x1448x512/'\n",
    "# directory = '/projects/ShockInducedMix/ShearLayerData/production/Mc08/rr7/1024x1448x512/'\n",
    "# directory = '/projects/ShockInducedMix/ShearLayerData/production/Mc08/rr_7/1024x1448x512/'\n",
    "\n",
    "# directory = '/projects/ShockInducedMix/ShearLayerData/production/Mc12/rr1/1024x1448x512/'\n",
    "# directory = '/projects/ShockInducedMix/ShearLayerData/production/Mc16/rr1/1024x1448x512/'\n",
    "# directory = '/projects/ShockInducedMix/ShearLayerData/production/Mc20/rr1/1024x1448x512/'\n",
    "# directory = '/projects/ShockInducedMix/ShearLayerData/production/Mc20/rr7/1024x1448x512/'\n",
    "# directory = '/projects/ShockInducedMix/ShearLayerData/production/Mc20/rr_7/1024x1448x512/'\n",
    "\n",
    "filename_prefix = directory+'shearlayer_'\n",
    "inp = nml.inputs(directory,verbose=True)\n",
    "Nx,Ny,Nz,Lx,Ly,Lz = nml.read_grid_params(directory,verbose=True)\n",
    "Ny = int(Ny)\n",
    "y = np.linspace(Ly/2.,-Ly/2.,Ny)\n",
    "x = np.linspace(0,Lx,int(Nx))\n",
    "z = np.linspace(0,Lz,int(Nz))\n",
    "\n",
    "reader = por.PadeopsReader(filename_prefix, periodic_dimensions=(True,False,True))\n",
    "kx = [2.0*np.pi/float(Lx)*w for w in range(0,int(Nx/2))]; kx = np.array(kx)\n",
    "kz = [2.0*np.pi/float(Lz)*w for w in range(0,int(Nz/2))]; kz = np.array(kz)\n",
    "\n",
    "steps = sorted(reader.steps)\n",
    "print(\"Steps: {}\".format(reader.steps))"
   ]
  },
  {
   "cell_type": "code",
   "execution_count": 114,
   "metadata": {},
   "outputs": [
    {
     "name": "stdout",
     "output_type": "stream",
     "text": [
      "20\n",
      "21\n",
      "22\n",
      "23\n",
      "24\n",
      "25\n",
      "26\n",
      "Done\n"
     ]
    }
   ],
   "source": [
    "# Integral lengthscales lz/lx\n",
    "def get_yc(directory,tID):\n",
    "    # Get centerline as mean peaks of Rij\n",
    "    dat = np.fromfile( directory + 'shearlayer_Rij_'+str(tID)+'.dat',dtype=float, count=-1, sep=' ')\n",
    "    n = np.size(dat)\n",
    "    nstats=6\n",
    "    dat = np.reshape(dat,[n/nstats,nstats]) \n",
    "    yc = 0\n",
    "    nmodes = 10\n",
    "    for i in [0,1,3,5]:\n",
    "        tmp = get_centerline(y,smooth_modes(dat[:,i],nmodes))\n",
    "        if abs(tmp)<15: yc+=tmp\n",
    "        else: print(tID,i,tmp)\n",
    "        yc /= 4.\n",
    "    return np.argmin(abs(y-yc))\n",
    "\n",
    "thresh = 0.2\n",
    "def get_lscale(y,Lvv):\n",
    "    Ny = np.size(Lvv)\n",
    "    i1 = np.argmin(abs(Lvv[:Ny/2]-thresh))\n",
    "    i2 = np.argmin(abs(Lvv[Ny/2:]-thresh)) + Ny/2 \n",
    "    L_int = abs(y[i1]-y[i2])\n",
    "    return L_int\n",
    "\n",
    "\n",
    "steps_plot = steps[5:12]\n",
    "mat = np.zeros([len(steps_plot),4])\n",
    "counter = 0\n",
    "\n",
    "for step in steps_plot:\n",
    "    print(step)\n",
    "    reader.step = step\n",
    "    yslice = get_yc(directory,'%04d'%step)\n",
    "    reader.sub_domain = (0,yslice,0), (reader.domain_size[0]-1, yslice, reader.domain_size[2]-1)\n",
    "    u,U,uprime2D = get_qf(reader,'u')\n",
    "    Rii = autocorr(uprime2D)\n",
    "    #cont = plt.contour(x,z,np.transpose(Rii),levels=np.arange(0.,1.,0.1))\n",
    "    #plt.clabel(cont, inline=1, fontsize=0.75*fs)\n",
    "    #plt.axes().set_aspect('equal', 'datalim')\n",
    "    \n",
    "    # Get lscale x,z:\n",
    "    lx = get_lscale(x,Rii[:,int(Nz)/2])\n",
    "    lz = get_lscale(z,Rii[int(Nx)/2,:])\n",
    "    \n",
    "    mat[counter,0] = reader.time\n",
    "    mat[counter,1] = lx\n",
    "    mat[counter,2] = lz\n",
    "    mat[counter,3] = lz/lx\n",
    "    counter += 1\n",
    "print('Done')"
   ]
  },
  {
   "cell_type": "code",
   "execution_count": 115,
   "metadata": {},
   "outputs": [
    {
     "name": "stdout",
     "output_type": "stream",
     "text": [
      "/projects/ShockInducedMix/ShearLayerData/production/Mc04/rr1/1024x1448x512/\n",
      "[0.345458934995,0.137573580929]\n"
     ]
    },
    {
     "data": {
      "image/png": "[encoded data removed]",
      "text/plain": [
       "<Figure size 432x288 with 1 Axes>"
      ]
     },
     "metadata": {
      "needs_background": "light"
     },
     "output_type": "display_data"
    }
   ],
   "source": [
    "plt.plot(mat[:,0],mat[:,3],'-o')\n",
    "\n",
    "idx = 0\n",
    "print(directory)\n",
    "print('[{},{}]'.format(np.mean(mat[idx:,3]),np.std(mat[idx:,3])))"
   ]
  },
  {
   "cell_type": "code",
   "execution_count": 118,
   "metadata": {
    "scrolled": false
   },
   "outputs": [
    {
     "data": {
      "image/png": "[encoded data removed]",
      "text/plain": [
       "<Figure size 600x600 with 1 Axes>"
      ]
     },
     "metadata": {
      "needs_background": "light"
     },
     "output_type": "display_data"
    }
   ],
   "source": [
    "Lvv = { #u\"\n",
    "    0.2: [0.394366488378,0.196354103904],\n",
    "    0.4: [0.345458934995,0.137573580929],\n",
    "    0.8: [0.293725036757,0.0348209865744],\n",
    "    1.2: [0.429952449617,0.192878600611],\n",
    "    1.6: [0.379943211872,0.182009615401],\n",
    "    2.0: [0.324561849201,0.199734223216]\n",
    "}\n",
    "# Lvv = { #v\"\n",
    "#     0.2: [0.615723555051,0.0892884155246],\n",
    "#     0.4: [0.508390639196,0.0594043020394],\n",
    "#     0.8: [0.586645851869,0.0810710415954],\n",
    "#     1.2: [0.618304063829,0.0405889732682],\n",
    "#     1.6: [0.624280593675,0.0261136570793],\n",
    "#     2.0: [0.579075967095,0.0390412054867]\n",
    "# }\n",
    "\n",
    "Lvv_rr7 = {\n",
    "    0.2: [0.219559451514, 0.00992147938793],\n",
    "    0.8: [0.135476684041, 0.00360524761355],\n",
    "    2.0: [0.0991706552096, 0.00502552057177] }\n",
    "\n",
    "Lvv_rr_7 = {\n",
    "    0.2: [0.221562469353, 0.00338271367857],\n",
    "    0.8: [0.143466644374, 0.00544143962459],\n",
    "    2.0: [0.0765113975654, 0.00175996172299]}\n",
    "\n",
    "def merge_dicts(old1,old2):\n",
    "    new = {}\n",
    "    for i in range(3):\n",
    "        key = old1.keys()[i]\n",
    "        v1 = old1.values()[i][0]\n",
    "        v2 = old2.values()[i][0]\n",
    "        e1 = old1.values()[i][1]\n",
    "        e2 = old2.values()[i][1]\n",
    "        err = (e1**2+e2**2)**0.5 + np.std([v1,v2])\n",
    "        new[key] = [(v1+v2)/2., err]\n",
    "    return new\n",
    "\n",
    "# rr = merge_dicts(Lvv_rr7,Lvv_rr_7)\n",
    "\n",
    "fs = 14\n",
    "fig = plt.figure(figsize=(3,3),dpi=200)\n",
    "plt.errorbar(Lvv.keys(),[x[0] for x in Lvv.values()], yerr=[x[1] for x in Lvv.values()],fmt='ko',label='s=1',capsize=3)\n",
    "# plt.errorbar(rr.keys(),[x[0] for x in rr.values()], yerr=[x[1] for x in rr.values()],fmt='o',label='s=7',capsize=3)\n",
    "\n",
    "plt.legend()\n",
    "plt.grid(True)\n",
    "plt.xlabel(r'$M_c$')\n",
    "plt.ylabel(r'$L_z/L_x$')\n",
    "# plt.ylim([0.3,0.8])\n",
    "plt.ylim([0.0,0.8])\n",
    "plt.savefig('/home/kmatsuno/ShearLayer_img/lscale_xz.png',dpi=200, bbox_inches='tight')"
   ]
  }
 ],
 "metadata": {
  "kernelspec": {
   "display_name": "Python 2",
   "language": "python",
   "name": "python2"
  },
  "language_info": {
   "codemirror_mode": {
    "name": "ipython",
    "version": 2
   },
   "file_extension": ".py",
   "mimetype": "text/x-python",
   "name": "python",
   "nbconvert_exporter": "python",
   "pygments_lexer": "ipython2",
   "version": "2.7.5"
  }
 },
 "nbformat": 4,
 "nbformat_minor": 2
}
