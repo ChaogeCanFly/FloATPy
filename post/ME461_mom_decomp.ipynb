{
 "cells": [
  {
   "cell_type": "code",
   "execution_count": 109,
   "metadata": {
    "scrolled": false
   },
   "outputs": [
    {
     "name": "stdout",
     "output_type": "stream",
     "text": [
      "Params for this run:\n",
      "\tMc = 2.0\n",
      "\tRe = 1000.0\n",
      "\trr = 1.0\n",
      "Params for this grid:\n",
      "\tN = 1024x1448x512\n",
      "\tL = 80.0x80.0x40.0\n",
      "['momdecomp_7946.pkl', 'momdecomp_7947.pkl', 'momdecomp_7948.pkl', 'momdecomp_7949.pkl', 'momdecomp_7951.pkl', 'momdecomp_7952.pkl', 'momdecomp_7953.pkl', 'momdecomp_7954.pkl', 'momdecomp_7956.pkl', 'momdecomp_7957.pkl', 'momdecomp_7958.pkl', 'momdecomp_7959.pkl', 'momdecomp_7961.pkl', 'momdecomp_7962.pkl', 'momdecomp_7963.pkl', 'momdecomp_7964.pkl', 'momdecomp_7965.pkl']\n"
     ]
    }
   ],
   "source": [
    "import sys\n",
    "import os\n",
    "import glob\n",
    "from mpi4py import MPI\n",
    "import h5py\n",
    "import numpy as np\n",
    "import matplotlib.pyplot as plt\n",
    "from mpl_toolkits.axes_grid1 import make_axes_locatable\n",
    "%matplotlib inline\n",
    "%config InlineBackend.figure_format = 'png'\n",
    "from scipy.stats import norm, skew, kurtosis\n",
    "import matplotlib.mlab as mlab\n",
    "import pickle\n",
    "\n",
    "import scripts.statistics as stats\n",
    "import scripts.get_namelist as nml\n",
    "from scripts.hh_decomp import window_tukey, window_field\n",
    "from scripts.common import *\n",
    "\n",
    "# directory = '/projects/ShockInducedMix/ShearLayerData/production/Mc02/rr1/256x384x128/'\n",
    "directory = '/projects/ShockInducedMix/ShearLayerData/production/Mc20/rr1/1024x1448x512/restart_0040_fine/'\n",
    "inp = nml.inputs(directory,verbose=True)\n",
    "Nx,Ny,Nz,Lx,Ly,Lz = nml.read_grid_params(directory,verbose=True)\n",
    "Ny = int(Ny)\n",
    "y = np.linspace(-Ly/2.,Ly/2.,Ny)\n",
    "kx = [2.0*np.pi/float(Lx)*w for w in range(0,int(Nx/2))]; kx = np.array(kx)\n",
    "kz = [2.0*np.pi/float(Lz)*w for w in range(0,int(Nz/2))]; kz = np.array(kz)\n",
    "\n",
    "flist = glob.glob(directory+\"momdecomp*pkl\")\n",
    "flist.sort()\n",
    "print([f.split('/')[-1] for f in flist])\n",
    "\n",
    "# tlist,dlist,rates = growth_rates(directory+'shearlayer_')"
   ]
  },
  {
   "cell_type": "code",
   "execution_count": null,
   "metadata": {},
   "outputs": [],
   "source": [
    "\n",
    "def plot_planes(fname,key='zplanes',comp='y',yslice=0):\n",
    "    pkl_file = open(fname, 'rb')\n",
    "    planes = pickle.load(pkl_file)\n",
    "    pkl_file.close()\n",
    "\n",
    "    fig,ax = plt.subplots(1,3,figsize=(10,4),dpi=150)\n",
    "    titles = ['Solenoidal','Acoustic','Thermal']\n",
    "    maps = ['seismic','viridis','inferno']\n",
    "    for i,name in enumerate(['b','acoustic','thermal']):\n",
    "        dat = planes[key][name][comp]\n",
    "        if key =='yplanes': dat = dat[:,:,yslice]\n",
    "        im = ax[i].imshow(np.transpose(dat),cmap=maps[i])\n",
    "        ax[i].set_title(titles[i])\n",
    "        \n",
    "        # cbar\n",
    "        divider1 = make_axes_locatable(ax[i])\n",
    "        cax = divider1.append_axes('right', size='5%', pad=0.1)\n",
    "        maxval = np.amax(dat)\n",
    "        minval = np.amin(dat)\n",
    "        cbar = plt.colorbar(im, cax,ticks=[minval,maxval])\n",
    "        cbar.ax.set_yticklabels(['%0.2f'%(minval), '%0.2f'%(maxval)]) \n",
    "        cbar.ax.tick_params(labelsize=0.75*fs)\n",
    "        \n",
    "    plt.subplots_adjust(wspace=0.5)\n",
    "    for a in ax:\n",
    "        a.set_xticks([])\n",
    "        a.set_yticks([])\n",
    "\n",
    "plot_planes(flist[0],key='zplanes',comp='y')\n",
    "# plot_planes(flist[0],key='yplanes',comp='y',yslice=2)"
   ]
  }
 ],
 "metadata": {
  "kernelspec": {
   "display_name": "Python 2",
   "language": "python",
   "name": "python2"
  },
  "language_info": {
   "codemirror_mode": {
    "name": "ipython",
    "version": 2
   },
   "file_extension": ".py",
   "mimetype": "text/x-python",
   "name": "python",
   "nbconvert_exporter": "python",
   "pygments_lexer": "ipython2",
   "version": "2.7.5"
  }
 },
 "nbformat": 4,
 "nbformat_minor": 2
}
