{
 "cells": [
  {
   "cell_type": "code",
   "execution_count": 15,
   "metadata": {},
   "outputs": [],
   "source": [
    "import h5py\n",
    "import matplotlib\n",
    "import matplotlib.pyplot as plt\n",
    "from mpl_toolkits.axes_grid1 import make_axes_locatable\n",
    "%matplotlib inline\n",
    "%config InlineBackend.figure_format = 'png'\n",
    "params = {'image.cmap': \"Set2\"}\n",
    "matplotlib.rcParams.update(params)\n",
    "import numpy as np\n",
    "import floatpy.readers.padeops_reader as por\n",
    "from scipy import stats\n",
    "import scripts.get_namelist as nml\n",
    "from scripts.common import *\n",
    "\n",
    "def get_q(reader,qname):\n",
    "    u = reader.readData(qname);\n",
    "    u = np.squeeze(u);\n",
    "    ubar = np.mean(np.mean(u,axis=2),axis=0);\n",
    "    uprime = np.squeeze(u-ubar[None,:,None])\n",
    "    return u,ubar,uprime\n",
    "\n",
    "def get_qf(reader,qname):#Favre average\n",
    "    r,u = reader.readData(('rho',qname));\n",
    "    u = np.squeeze(u);\n",
    "    r = np.squeeze(r);  \n",
    "    rbar   = np.mean(np.mean(r,axis=2),axis=0)\n",
    "    utilde = np.mean(np.mean(r*u))/rbar;\n",
    "    upprime2D = np.squeeze(u-utilde)\n",
    "    return u,utilde,upprime2D\n"
   ]
  },
  {
   "cell_type": "code",
   "execution_count": 32,
   "metadata": {},
   "outputs": [
    {
     "name": "stdout",
     "output_type": "stream",
     "text": [
      "Params for this run:\n",
      "\tMc = 2.0\n",
      "\tRe = 1000.0\n",
      "\trr = 1.0\n",
      "Params for this grid:\n",
      "\tN = 1024x1448x512\n",
      "\tL = 80.0x80.0x40.0\n",
      "Steps: (0, 1, 2, 3, 4, 5, 6, 7, 8, 9, 10, 11, 12, 13)\n"
     ]
    }
   ],
   "source": [
    "directory = '/projects/ShockInducedMix/ShearLayerData/production/Mc20/rr1/1024x1448x512/'\n",
    "# directory = '/projects/ShockInducedMix/ShearLayerData/production/Mc16/rr1/1024x1448x512/'\n",
    "# directory = '/projects/ShockInducedMix/ShearLayerData/production/Mc20/rr1/512x724x256/'\n",
    "\n",
    "filename_prefix = directory+'shearlayer_'\n",
    "inp = nml.inputs(directory,verbose=True)\n",
    "Nx,Ny,Nz,Lx,Ly,Lz = nml.read_grid_params(directory,verbose=True)\n",
    "Ny = int(Ny)\n",
    "y = np.linspace(Ly/2.,-Ly/2.,Ny)\n",
    "x = np.linspace(0,Lx,int(Nx))\n",
    "z = np.linspace(0,Lz,int(Nz))\n",
    "\n",
    "reader = por.PadeopsReader(filename_prefix, periodic_dimensions=(True,False,True))\n",
    "\n",
    "steps = sorted(reader.steps)\n",
    "print(\"Steps: {}\".format(reader.steps))"
   ]
  },
  {
   "cell_type": "code",
   "execution_count": 34,
   "metadata": {
    "scrolled": false
   },
   "outputs": [
    {
     "name": "stdout",
     "output_type": "stream",
     "text": [
      "(0.08293020041465127, 722)\n",
      "(-0.02764340013821709, 724)\n",
      "(-0.19350380096751962, 727)\n",
      "(0.08293020041465127, 722)\n",
      "(0.6357982031789859, 712)\n",
      "(0.13821700069108545, 721)\n",
      "(-0.8016586040082956, 738)\n",
      "(-0.08293020041465127, 725)\n",
      "(1.1886662059433277, 702)\n",
      "(-0.5252246026261247, 733)\n",
      "(-1.0228058051140323, 742)\n",
      "(0.6910850034554201, 711)\n",
      "(2.2944022114720113, 682)\n"
     ]
    },
    {
     "data": {
      "text/plain": [
       "Text(0.5,0,'$p/\\\\sigma_p$')"
      ]
     },
     "execution_count": 34,
     "metadata": {},
     "output_type": "execute_result"
    },
    {
     "data": {
      "image/png": "[encoded data removed]",
      "text/plain": [
       "<Figure size 432x288 with 1 Axes>"
      ]
     },
     "metadata": {
      "needs_background": "light"
     },
     "output_type": "display_data"
    }
   ],
   "source": [
    "# Get the centerline for the last step\n",
    "step = max(steps)\n",
    "for i,step in enumerate(steps[1:]):\n",
    "    ic,yc = get_centerline(directory,y,step)\n",
    "    print(yc,ic)\n",
    "\n",
    "    reader.step = step        \n",
    "    itop = ic+10\n",
    "    ibot = ic-10\n",
    "    q,qbar,qprime = get_q(reader,'p')\n",
    "    p = qprime[:,ibot:itop,:]\n",
    "    # variance\n",
    "    var = np.var(p.flatten())\n",
    "    p /= var\n",
    "    #h,bin_edges = np.histogram(p.flatten(), bins=50,density=True)\n",
    "    plt.hist(p.flatten(), bins=50,density=True,alpha=0.3)\n",
    "    #H[:,i] = h\n",
    "    #B[:,i] = bin_edges[:-1]\n",
    "    \n",
    "plt.xlabel(r\"$p/\\sigma_p$\")\n",
    "# QT_plot = np.linspace(bin_edges[0],bin_edges[-1],1000)\n",
    "# get distribution, sample and normalize\n",
    "# kde = stats.gaussian_kde(h)\n",
    "# pdf = kde.evaluate(QT_plot)\n",
    "\n",
    "# plt.plot(bin_edges[:-1],h)\n",
    "# plt.plot(QT_plot,pdf,'k')"
   ]
  },
  {
   "cell_type": "code",
   "execution_count": null,
   "metadata": {},
   "outputs": [],
   "source": []
  },
  {
   "cell_type": "code",
   "execution_count": 3,
   "metadata": {},
   "outputs": [
    {
     "name": "stdout",
     "output_type": "stream",
     "text": [
      "Saved plot to  /projects/ShockInducedMix/ShearLayerData/production/Mc02/rr1/1024x1448x512//img/autocorr.png\n",
      "Saved plot to  /projects/ShockInducedMix/ShearLayerData/production/Mc04/rr1/1024x1448x512//img/autocorr.png\n",
      "Saved plot to  /projects/ShockInducedMix/ShearLayerData/production/Mc08/rr1/1024x1448x512//img/autocorr.png\n",
      "Saved plot to  /projects/ShockInducedMix/ShearLayerData/production/Mc12/rr1/1024x1448x512//img/autocorr.png\n",
      "Saved plot to  /projects/ShockInducedMix/ShearLayerData/production/Mc16/rr1/1024x1448x512//img/autocorr.png\n",
      "Saved plot to  /projects/ShockInducedMix/ShearLayerData/production/Mc20/rr1/1024x1448x512//img/autocorr.png\n",
      "Done\n"
     ]
    }
   ],
   "source": [
    "s = '1'\n",
    "\n",
    "if s=='1': Mc_list = ['02','04','08','12','16','20']\n",
    "else: Mc_list = ['02','08','20']\n",
    "\n",
    "for Mc in Mc_list:\n",
    "    directory = '/projects/ShockInducedMix/ShearLayerData/production/Mc%s/rr%s/1024x1448x512/'%(Mc,s)\n",
    "    reader = por.PadeopsReader(directory+'/shearlayer_', periodic_dimensions=(True,False,True))\n",
    "    steps = reader.steps\n",
    "    inp = nml.inputs(directory,verbose=False)\n",
    "    Nx,Ny,Nz,Lx,Ly,Lz = nml.read_grid_params(directory,verbose=False)\n",
    "    Ny = int(Ny)\n",
    "    y = np.linspace(-Ly/2.,Ly/2.,Ny)\n",
    "    x = np.linspace(0,Lx,int(Nx))\n",
    "    z = np.linspace(0,Lz,int(Nz))\n",
    "\n",
    "    step = max(reader.steps)\n",
    "    reader.step = step\n",
    "    ic,yc = get_centerline(directory,y,step)\n",
    "    plot_autocorr(reader,('u','v','w','p'),ic,savename=directory+'/img/autocorr.png')\n",
    "    \n",
    "print('Done')"
   ]
  }
 ],
 "metadata": {
  "kernelspec": {
   "display_name": "Python 2",
   "language": "python",
   "name": "python2"
  },
  "language_info": {
   "codemirror_mode": {
    "name": "ipython",
    "version": 2
   },
   "file_extension": ".py",
   "mimetype": "text/x-python",
   "name": "python",
   "nbconvert_exporter": "python",
   "pygments_lexer": "ipython2",
   "version": "2.7.5"
  }
 },
 "nbformat": 4,
 "nbformat_minor": 2
}
